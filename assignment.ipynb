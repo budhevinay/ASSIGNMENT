{
 "cells": [
  {
   "cell_type": "code",
   "execution_count": 12,
   "id": "f5d4625c-7e23-474a-95a9-9e5b4d4c8250",
   "metadata": {},
   "outputs": [],
   "source": [
    "'''1. Declare two variables, `x` and `y`, and assign them integer values.\n",
    "Swap the values of these variables without using any temporary\n",
    "variable'''\n",
    "\n",
    "a=2\n",
    "b=3"
   ]
  },
  {
   "cell_type": "code",
   "execution_count": 20,
   "id": "24bae31e-58a1-4f24-b1c3-29824a4599e8",
   "metadata": {},
   "outputs": [],
   "source": [
    "a=a+b"
   ]
  },
  {
   "cell_type": "code",
   "execution_count": 21,
   "id": "9a37da56-e2e4-430f-985b-48a9aee5641e",
   "metadata": {},
   "outputs": [],
   "source": [
    "b=a-b"
   ]
  },
  {
   "cell_type": "code",
   "execution_count": 17,
   "id": "a171903f-49e7-4a39-8a5f-13bce500054b",
   "metadata": {},
   "outputs": [],
   "source": [
    "a=a-b"
   ]
  },
  {
   "cell_type": "code",
   "execution_count": 19,
   "id": "a1144f14-d2d0-4ba8-bff2-43f72226fe67",
   "metadata": {},
   "outputs": [
    {
     "name": "stdout",
     "output_type": "stream",
     "text": [
      "3 2\n"
     ]
    }
   ],
   "source": [
    "print(a,b)"
   ]
  },
  {
   "cell_type": "code",
   "execution_count": 16,
   "id": "3ea89e20-bb0d-4ea6-93b8-01afb9d182ea",
   "metadata": {},
   "outputs": [
    {
     "name": "stdin",
     "output_type": "stream",
     "text": [
      " 34\n"
     ]
    }
   ],
   "source": [
    "''' 2.Create a program that calculates the area of a rectangle. Take the\n",
    "length and width as inputs from the user and store them in variables.\n",
    "Calculate and display the area.'''\n",
    "\n",
    "length=input()\n"
   ]
  },
  {
   "cell_type": "code",
   "execution_count": 17,
   "id": "0ca6f237-44bb-4eae-b267-a75c8dec83b0",
   "metadata": {},
   "outputs": [
    {
     "name": "stdin",
     "output_type": "stream",
     "text": [
      " 23\n"
     ]
    }
   ],
   "source": [
    "width=input()"
   ]
  },
  {
   "cell_type": "code",
   "execution_count": 18,
   "id": "7cbb1821-062e-4a90-941e-01abce8b7a09",
   "metadata": {},
   "outputs": [],
   "source": [
    "length1=int(length)"
   ]
  },
  {
   "cell_type": "code",
   "execution_count": 19,
   "id": "7cbc30f9-d5e3-463b-a695-ce72dcdbe800",
   "metadata": {},
   "outputs": [],
   "source": [
    "width1=int(width)"
   ]
  },
  {
   "cell_type": "code",
   "execution_count": 20,
   "id": "8adb86d1-7df3-4e3a-8bbf-f087bca40ec5",
   "metadata": {},
   "outputs": [],
   "source": [
    "area_of_rectangle= length1*width1"
   ]
  },
  {
   "cell_type": "code",
   "execution_count": 21,
   "id": "9746010d-7f38-48ea-bc6f-77fe184fedb5",
   "metadata": {},
   "outputs": [
    {
     "name": "stdout",
     "output_type": "stream",
     "text": [
      "782\n"
     ]
    }
   ],
   "source": [
    "print(area_of_rectangle)"
   ]
  },
  {
   "cell_type": "code",
   "execution_count": null,
   "id": "1ea779a0-a051-4d55-a766-09700f2e864e",
   "metadata": {},
   "outputs": [],
   "source": [
    "''' 3.Write a Python program that converts temperature from Celsius to\n",
    "Fahrenheit. Take the temperature in Celsius as input, store it in a\n",
    "variable, convert it to Fahrenheit, and display the result.'''\n",
    "\n",
    "please_enter_temperature_in_celsius= input()"
   ]
  },
  {
   "cell_type": "code",
   "execution_count": 3,
   "id": "637a92af-c6d6-4729-86b3-5295c25e224e",
   "metadata": {},
   "outputs": [],
   "source": [
    "celsius_temp=int(please_enter_temperature_in_celsius)"
   ]
  },
  {
   "cell_type": "code",
   "execution_count": 4,
   "id": "eb7d041b-fdb4-4a20-b384-d2527c22e997",
   "metadata": {},
   "outputs": [],
   "source": [
    "Fahrenheit_temperature=(celsius_temp*9/5)+32"
   ]
  },
  {
   "cell_type": "code",
   "execution_count": 5,
   "id": "aa5dd0ad-68a4-4ac6-8995-6a22ade99136",
   "metadata": {},
   "outputs": [
    {
     "name": "stdout",
     "output_type": "stream",
     "text": [
      "32.0\n"
     ]
    }
   ],
   "source": [
    "print(Fahrenheit_temperature)"
   ]
  },
  {
   "cell_type": "code",
   "execution_count": 29,
   "id": "4d302122-09e9-4912-a90f-c8b0aa7b9b05",
   "metadata": {},
   "outputs": [
    {
     "name": "stdin",
     "output_type": "stream",
     "text": [
      " vinay\n"
     ]
    }
   ],
   "source": [
    "'''1. Write a Python program that takes a string as input and prints the\n",
    "length of the string.'''\n",
    " \n",
    "string=input()"
   ]
  },
  {
   "cell_type": "code",
   "execution_count": 30,
   "id": "16cd663b-9004-42ff-9cf8-ad1baa98ce82",
   "metadata": {},
   "outputs": [
    {
     "data": {
      "text/plain": [
       "5"
      ]
     },
     "execution_count": 30,
     "metadata": {},
     "output_type": "execute_result"
    }
   ],
   "source": [
    "len(string)"
   ]
  },
  {
   "cell_type": "code",
   "execution_count": null,
   "id": "f6087391-8d39-49f2-a79f-9aff5f88426a",
   "metadata": {},
   "outputs": [],
   "source": [
    "'''2. Create a program that takes a sentence from the user and counts the\n",
    "number of vowels (a, e, i, o, u) in the string.'''\n",
    "\n"
   ]
  },
  {
   "cell_type": "code",
   "execution_count": 9,
   "id": "ff2d53d6-4859-4e13-958d-acffa7312711",
   "metadata": {},
   "outputs": [
    {
     "name": "stdin",
     "output_type": "stream",
     "text": [
      " Create a program that takes a sentence from the user and counts the number of vowels\n"
     ]
    }
   ],
   "source": [
    "x=input()"
   ]
  },
  {
   "cell_type": "code",
   "execution_count": 15,
   "id": "2cf1a9bc-685c-4e9d-9fc9-158da2cd5c5d",
   "metadata": {},
   "outputs": [
    {
     "data": {
      "text/plain": [
       "7"
      ]
     },
     "execution_count": 15,
     "metadata": {},
     "output_type": "execute_result"
    }
   ],
   "source": [
    "x.count('a')"
   ]
  },
  {
   "cell_type": "code",
   "execution_count": 17,
   "id": "494f3983-f63c-45a1-be4c-67e3c137abe4",
   "metadata": {},
   "outputs": [
    {
     "data": {
      "text/plain": [
       "11"
      ]
     },
     "execution_count": 17,
     "metadata": {},
     "output_type": "execute_result"
    }
   ],
   "source": [
    "x.count('e')"
   ]
  },
  {
   "cell_type": "code",
   "execution_count": 18,
   "id": "126ac8ce-1495-4d8c-87f8-2af363d0e7d5",
   "metadata": {},
   "outputs": [
    {
     "data": {
      "text/plain": [
       "0"
      ]
     },
     "execution_count": 18,
     "metadata": {},
     "output_type": "execute_result"
    }
   ],
   "source": [
    "x.count('i')"
   ]
  },
  {
   "cell_type": "code",
   "execution_count": 19,
   "id": "268a145f-2952-482f-b536-808ebd38bf6d",
   "metadata": {},
   "outputs": [
    {
     "data": {
      "text/plain": [
       "0"
      ]
     },
     "execution_count": 19,
     "metadata": {},
     "output_type": "execute_result"
    }
   ],
   "source": [
    "x.count('0')"
   ]
  },
  {
   "cell_type": "code",
   "execution_count": 20,
   "id": "35f4bac5-4ed4-40bd-9bd0-190eadbed80b",
   "metadata": {},
   "outputs": [
    {
     "data": {
      "text/plain": [
       "3"
      ]
     },
     "execution_count": 20,
     "metadata": {},
     "output_type": "execute_result"
    }
   ],
   "source": [
    "x.count('u')"
   ]
  },
  {
   "cell_type": "code",
   "execution_count": null,
   "id": "d54149f3-9e55-4559-957e-4bc02857009f",
   "metadata": {},
   "outputs": [],
   "source": []
  },
  {
   "cell_type": "code",
   "execution_count": null,
   "id": "e8b8c1bf-9e6c-4179-bf25-91f6047be70a",
   "metadata": {},
   "outputs": [],
   "source": [
    "'''3.Given a string, reverse the order of characters using string slicing and\n",
    "print the reversed string.'''\n",
    "\n"
   ]
  },
  {
   "cell_type": "code",
   "execution_count": 2,
   "id": "653da5c3-f662-4a98-b809-67e64c51a09b",
   "metadata": {},
   "outputs": [],
   "source": [
    "x='vinay_kumar'"
   ]
  },
  {
   "cell_type": "code",
   "execution_count": 4,
   "id": "9d07954a-0167-4de0-9d93-aa5a57ec8a8f",
   "metadata": {},
   "outputs": [
    {
     "data": {
      "text/plain": [
       "'ramuk_yaniv'"
      ]
     },
     "execution_count": 4,
     "metadata": {},
     "output_type": "execute_result"
    }
   ],
   "source": [
    "x[::-1]"
   ]
  },
  {
   "cell_type": "code",
   "execution_count": null,
   "id": "ddec1659-2ad5-48b5-8d8a-ac8f45c33386",
   "metadata": {},
   "outputs": [],
   "source": [
    "'''4.Write a program that takes a string as input and checks if it is a\n",
    "palindrome (reads the same forwards and backwards).'''"
   ]
  },
  {
   "cell_type": "code",
   "execution_count": 3,
   "id": "9ba2e698-e947-449f-9d58-f222951abb9c",
   "metadata": {},
   "outputs": [
    {
     "name": "stdin",
     "output_type": "stream",
     "text": [
      " vinay\n"
     ]
    }
   ],
   "source": [
    "please_enter_palindrome_word=input()\n",
    "\n"
   ]
  },
  {
   "cell_type": "code",
   "execution_count": 10,
   "id": "cbb6e019-f3ef-4e68-81ce-802264d33a97",
   "metadata": {},
   "outputs": [
    {
     "data": {
      "text/plain": [
       "True"
      ]
     },
     "execution_count": 10,
     "metadata": {},
     "output_type": "execute_result"
    }
   ],
   "source": [
    "check_for_reverse==please_enter_palindrome_word[::-1]"
   ]
  },
  {
   "cell_type": "code",
   "execution_count": 13,
   "id": "72eb58f1-1c58-4973-a3dd-7292db9205a0",
   "metadata": {},
   "outputs": [
    {
     "data": {
      "text/plain": [
       "True"
      ]
     },
     "execution_count": 13,
     "metadata": {},
     "output_type": "execute_result"
    }
   ],
   "source": [
    " check_for_reverse==please_enter_palindrome_word"
   ]
  },
  {
   "cell_type": "code",
   "execution_count": 14,
   "id": "64b35019-5ef3-4f1e-8490-e799116310f5",
   "metadata": {},
   "outputs": [
    {
     "name": "stdout",
     "output_type": "stream",
     "text": [
      "this is vinay palindrome word\n"
     ]
    }
   ],
   "source": [
    "print('this is', check_for_reverse,'palindrome word')"
   ]
  },
  {
   "cell_type": "code",
   "execution_count": null,
   "id": "db482274-f235-4213-966d-74e98f67b44b",
   "metadata": {},
   "outputs": [],
   "source": [
    "'''5. Create a program that takes a string as input and removes all the\n",
    "spaces from it. Print the modified string without spaces.'''"
   ]
  },
  {
   "cell_type": "code",
   "execution_count": 7,
   "id": "14a5b116-7adc-4662-820e-834a6420f253",
   "metadata": {},
   "outputs": [],
   "source": [
    "v='Create a program that takes a string as input and removes all the spaces from it'"
   ]
  },
  {
   "cell_type": "code",
   "execution_count": 8,
   "id": "290650bd-a906-4212-8548-0897bced96b6",
   "metadata": {},
   "outputs": [
    {
     "data": {
      "text/plain": [
       "'Createaprogramthattakesastringasinputandremovesallthespacesfromit'"
      ]
     },
     "execution_count": 8,
     "metadata": {},
     "output_type": "execute_result"
    }
   ],
   "source": [
    "v.replace(' ','')"
   ]
  },
  {
   "cell_type": "code",
   "execution_count": null,
   "id": "d8e011e1-a345-4032-ac2e-6e83f685c877",
   "metadata": {},
   "outputs": [],
   "source": []
  }
 ],
 "metadata": {
  "kernelspec": {
   "display_name": "Python 3 (ipykernel)",
   "language": "python",
   "name": "python3"
  },
  "language_info": {
   "codemirror_mode": {
    "name": "ipython",
    "version": 3
   },
   "file_extension": ".py",
   "mimetype": "text/x-python",
   "name": "python",
   "nbconvert_exporter": "python",
   "pygments_lexer": "ipython3",
   "version": "3.10.8"
  }
 },
 "nbformat": 4,
 "nbformat_minor": 5
}
